{
 "cells": [
  {
   "cell_type": "code",
   "execution_count": 1,
   "id": "158427fe",
   "metadata": {},
   "outputs": [
    {
     "name": "stderr",
     "output_type": "stream",
     "text": [
      "C:\\ProgramData\\anaconda3\\Lib\\site-packages\\pandas\\core\\arrays\\masked.py:60: UserWarning: Pandas requires version '1.3.6' or newer of 'bottleneck' (version '1.3.5' currently installed).\n",
      "  from pandas.core import (\n"
     ]
    }
   ],
   "source": [
    "import pandas as pd\n",
    "import numpy as np"
   ]
  },
  {
   "cell_type": "markdown",
   "id": "c5dbac9e",
   "metadata": {},
   "source": [
    "\n",
    "##                   Finding Q_Star"
   ]
  },
  {
   "cell_type": "code",
   "execution_count": 2,
   "id": "066fed92",
   "metadata": {},
   "outputs": [],
   "source": [
    "# Q_star = (2DA/H(1-D/P)) ^ -1\n",
    "def Q_star_calculator(P, D, h, A):\n",
    "    return ((2 * D * A)/ (h * (1- D/P))) ** 0.5"
   ]
  },
  {
   "cell_type": "code",
   "execution_count": 3,
   "id": "9dcb5398",
   "metadata": {},
   "outputs": [],
   "source": [
    "dt = pd.DataFrame({\n",
    "    \"P\": [12000000, 9000000, 6000000], # production in year(* 300)  \n",
    "    \"D\": [3448297, 2651357, 2858575],  \n",
    "    \"h\": [23000, 31000, 53000],        \n",
    "    \"A\": [16000000, 14000000, 12000000]})\n",
    "dt.index = ['Japan', 'Germany', 'USA']"
   ]
  },
  {
   "cell_type": "code",
   "execution_count": 4,
   "id": "a2ed1cae",
   "metadata": {},
   "outputs": [
    {
     "data": {
      "text/html": [
       "<div>\n",
       "<style scoped>\n",
       "    .dataframe tbody tr th:only-of-type {\n",
       "        vertical-align: middle;\n",
       "    }\n",
       "\n",
       "    .dataframe tbody tr th {\n",
       "        vertical-align: top;\n",
       "    }\n",
       "\n",
       "    .dataframe thead th {\n",
       "        text-align: right;\n",
       "    }\n",
       "</style>\n",
       "<table border=\"1\" class=\"dataframe\">\n",
       "  <thead>\n",
       "    <tr style=\"text-align: right;\">\n",
       "      <th></th>\n",
       "      <th>P</th>\n",
       "      <th>D</th>\n",
       "      <th>h</th>\n",
       "      <th>A</th>\n",
       "    </tr>\n",
       "  </thead>\n",
       "  <tbody>\n",
       "    <tr>\n",
       "      <th>Japan</th>\n",
       "      <td>12000000</td>\n",
       "      <td>3448297</td>\n",
       "      <td>23000</td>\n",
       "      <td>16000000</td>\n",
       "    </tr>\n",
       "    <tr>\n",
       "      <th>Germany</th>\n",
       "      <td>9000000</td>\n",
       "      <td>2651357</td>\n",
       "      <td>31000</td>\n",
       "      <td>14000000</td>\n",
       "    </tr>\n",
       "    <tr>\n",
       "      <th>USA</th>\n",
       "      <td>6000000</td>\n",
       "      <td>2858575</td>\n",
       "      <td>53000</td>\n",
       "      <td>12000000</td>\n",
       "    </tr>\n",
       "  </tbody>\n",
       "</table>\n",
       "</div>"
      ],
      "text/plain": [
       "                P        D      h         A\n",
       "Japan    12000000  3448297  23000  16000000\n",
       "Germany   9000000  2651357  31000  14000000\n",
       "USA       6000000  2858575  53000  12000000"
      ]
     },
     "execution_count": 4,
     "metadata": {},
     "output_type": "execute_result"
    }
   ],
   "source": [
    "dt"
   ]
  },
  {
   "cell_type": "code",
   "execution_count": 5,
   "id": "35353fde",
   "metadata": {},
   "outputs": [],
   "source": [
    "Q_star = {\n",
    "    'Japan' : [],\n",
    "    'Germany' : [],\n",
    "    'USA' : []\n",
    "}\n",
    "\n",
    "for i in ['Japan', 'Germany', 'USA']:\n",
    "    Q_star[i] = round(Q_star_calculator(dt.loc[i]['P'], \n",
    "                                  dt.loc[i]['D'],\n",
    "                                  dt.loc[i]['h'],\n",
    "                                  dt.loc[i]['A']), 2)"
   ]
  },
  {
   "cell_type": "code",
   "execution_count": 6,
   "id": "fddda9de",
   "metadata": {},
   "outputs": [
    {
     "data": {
      "text/plain": [
       "{'Japan': 82049.84, 'Germany': 58265.71, 'USA': 49722.71}"
      ]
     },
     "execution_count": 6,
     "metadata": {},
     "output_type": "execute_result"
    }
   ],
   "source": [
    "Q_star"
   ]
  }
 ],
 "metadata": {
  "kernelspec": {
   "display_name": "Python 3 (ipykernel)",
   "language": "python",
   "name": "python3"
  },
  "language_info": {
   "codemirror_mode": {
    "name": "ipython",
    "version": 3
   },
   "file_extension": ".py",
   "mimetype": "text/x-python",
   "name": "python",
   "nbconvert_exporter": "python",
   "pygments_lexer": "ipython3",
   "version": "3.11.5"
  }
 },
 "nbformat": 4,
 "nbformat_minor": 5
}
