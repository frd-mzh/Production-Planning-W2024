{
 "cells": [
  {
   "cell_type": "code",
   "execution_count": 7,
   "id": "7ce51862",
   "metadata": {},
   "outputs": [],
   "source": [
    "import pandas as pd\n",
    "import numpy as np"
   ]
  },
  {
   "cell_type": "markdown",
   "id": "95876e40",
   "metadata": {},
   "source": [
    "## MRP"
   ]
  },
  {
   "cell_type": "code",
   "execution_count": 8,
   "id": "e8e4a7e7",
   "metadata": {},
   "outputs": [],
   "source": [
    "# initial assumptions\n",
    "weeks = 12\n",
    "assumptions = pd.DataFrame({\n",
    "    'LS' : [82050, 58266, 49723],\n",
    "    'LT' : [1, 2, 3],\n",
    "    'int_inventory' : [10000, 10000, 10000]\n",
    "})\n",
    "assumptions.index = [\"Japan\", \"Germany\", \"USA\"]\n",
    "\n",
    "scheduled_receipts = {\n",
    "    \"Japan\": [10000, 10000, 0, 0, 0, 0, 0, 0, 0, 0, 0, 0],\n",
    "    \"Germany\": [10000, 10000, 0, 0, 0, 0, 0, 0, 0, 0, 0, 0],\n",
    "    \"USA\": [10000, 0, 0, 0, 0, 0, 0, 10000, 0, 0, 0, 0],\n",
    "}\n",
    "\n",
    "customer_orders = {\n",
    "    \"Japan\": [0, 82050 , 0, 0, 82050, 0, 82050, 0, 0, 0, 0, 0],\n",
    "    \"Germany\": [58266, 0, 116532, 0, 0, 116532, 0, 0, 116532, 0, 0, 0],\n",
    "    \"USA\": [49723, 49723, 0, 99446, 0, 49723, 0, 99446, 0, 49723, 0, 0],\n",
    "}"
   ]
  },
  {
   "cell_type": "code",
   "execution_count": 9,
   "id": "8fec4b7a",
   "metadata": {},
   "outputs": [
    {
     "data": {
      "text/html": [
       "<div>\n",
       "<style scoped>\n",
       "    .dataframe tbody tr th:only-of-type {\n",
       "        vertical-align: middle;\n",
       "    }\n",
       "\n",
       "    .dataframe tbody tr th {\n",
       "        vertical-align: top;\n",
       "    }\n",
       "\n",
       "    .dataframe thead th {\n",
       "        text-align: right;\n",
       "    }\n",
       "</style>\n",
       "<table border=\"1\" class=\"dataframe\">\n",
       "  <thead>\n",
       "    <tr style=\"text-align: right;\">\n",
       "      <th></th>\n",
       "      <th>LS</th>\n",
       "      <th>LT</th>\n",
       "      <th>int_inventory</th>\n",
       "    </tr>\n",
       "  </thead>\n",
       "  <tbody>\n",
       "    <tr>\n",
       "      <th>Japan</th>\n",
       "      <td>82050</td>\n",
       "      <td>1</td>\n",
       "      <td>10000</td>\n",
       "    </tr>\n",
       "    <tr>\n",
       "      <th>Germany</th>\n",
       "      <td>58266</td>\n",
       "      <td>2</td>\n",
       "      <td>10000</td>\n",
       "    </tr>\n",
       "    <tr>\n",
       "      <th>USA</th>\n",
       "      <td>49723</td>\n",
       "      <td>3</td>\n",
       "      <td>10000</td>\n",
       "    </tr>\n",
       "  </tbody>\n",
       "</table>\n",
       "</div>"
      ],
      "text/plain": [
       "            LS  LT  int_inventory\n",
       "Japan    82050   1          10000\n",
       "Germany  58266   2          10000\n",
       "USA      49723   3          10000"
      ]
     },
     "execution_count": 9,
     "metadata": {},
     "output_type": "execute_result"
    }
   ],
   "source": [
    "assumptions"
   ]
  },
  {
   "cell_type": "code",
   "execution_count": 10,
   "id": "b46c5818",
   "metadata": {},
   "outputs": [],
   "source": [
    "def MRP(Country, LS, int_inventory, orders, LT, scheduled_receipts, weeks=12):\n",
    "    gross_requirements = orders\n",
    "    POH = [0] * weeks\n",
    "    net_requirements = [0] * weeks\n",
    "    planned_order_releases = [0] * weeks\n",
    "    \n",
    "    # Starting point for POH\n",
    "    POH[0] = int_inventory + scheduled_receipts[Country][0] - gross_requirements[0]\n",
    "\n",
    "    for t in range(weeks):\n",
    "        # Update POH for each week\n",
    "        if t > 0:\n",
    "            POH[t] = POH[t - 1] + scheduled_receipts[Country][t] - gross_requirements[t]\n",
    "        \n",
    "        # If POH is negative, calculate net requirements and release orders\n",
    "        if POH[t] < 0:\n",
    "            net_requirements[t] = np.abs(POH[t])  # Calculate how much is needed\n",
    "            release_week = max(0, t - LT)  # Determine the release week based on lead time\n",
    "            planned_order_releases[release_week] = (round(net_requirements[t] / LS)) * LS  # Place order in lot size\n",
    "            \n",
    "            # Update POH with planned order release after orders are placed\n",
    "            if release_week > 0:  # Ensure we update POH after placing the order\n",
    "                POH[release_week] += planned_order_releases[release_week]\n",
    "            else:\n",
    "                POH[t] += planned_order_releases[release_week]\n",
    "        \n",
    "        # Update POH after planned order releases\n",
    "        if t > 0 and POH[t] < 0:\n",
    "            POH[t] = max(0, POH[t])  # Ensure POH does not go negative\n",
    "\n",
    "    # Creating DataFrame for the MRP table\n",
    "    df = pd.DataFrame({\n",
    "        \"Gross Requirements\": gross_requirements,\n",
    "        \"Scheduled Receipts\": scheduled_receipts[Country],\n",
    "        \"Projected On Hand\": POH,\n",
    "        \"Net Requirements\": net_requirements,\n",
    "        \"Planned Order Releases\": planned_order_releases,\n",
    "    }, index=[f\"Week {i + 1}\" for i in range(weeks)])\n",
    "\n",
    "    return df.T"
   ]
  },
  {
   "cell_type": "code",
   "execution_count": 11,
   "id": "f894e35f",
   "metadata": {},
   "outputs": [
    {
     "name": "stdout",
     "output_type": "stream",
     "text": [
      "MRP table for Japan\n",
      "----------------------------------------------------------------------------------\n",
      "                        Week 1  Week 2  Week 3  Week 4  Week 5  Week 6  \\\n",
      "Gross Requirements           0   82050       0       0   82050       0   \n",
      "Scheduled Receipts       10000   10000       0       0       0       0   \n",
      "Projected On Hand        20000   30000   30000  112050       0   82050   \n",
      "Net Requirements             0   52050       0       0   52050       0   \n",
      "Planned Order Releases   82050       0       0   82050       0   82050   \n",
      "\n",
      "                        Week 7  Week 8  Week 9  Week 10  Week 11  Week 12  \n",
      "Gross Requirements       82050       0       0        0        0        0  \n",
      "Scheduled Receipts           0       0       0        0        0        0  \n",
      "Projected On Hand            0       0       0        0        0        0  \n",
      "Net Requirements         82050       0       0        0        0        0  \n",
      "Planned Order Releases       0       0       0        0        0        0   \n",
      "\n",
      "MRP table for Germany\n",
      "----------------------------------------------------------------------------------\n",
      "                        Week 1  Week 2  Week 3  Week 4  Week 5  Week 6  \\\n",
      "Gross Requirements       58266       0  116532       0       0  116532   \n",
      "Scheduled Receipts       10000   10000       0       0       0       0   \n",
      "Projected On Hand        20000   30000       0  116532       0       0   \n",
      "Net Requirements         38266       0   86532       0       0  116532   \n",
      "Planned Order Releases   58266       0       0  116532       0       0   \n",
      "\n",
      "                        Week 7  Week 8  Week 9  Week 10  Week 11  Week 12  \n",
      "Gross Requirements           0       0  116532        0        0        0  \n",
      "Scheduled Receipts           0       0       0        0        0        0  \n",
      "Projected On Hand       116532       0       0        0        0        0  \n",
      "Net Requirements             0       0  116532        0        0        0  \n",
      "Planned Order Releases  116532       0       0        0        0        0   \n",
      "\n",
      "MRP table for USA\n",
      "----------------------------------------------------------------------------------\n",
      "                        Week 1  Week 2  Week 3  Week 4  Week 5  Week 6  \\\n",
      "Gross Requirements       49723   49723       0   99446       0   49723   \n",
      "Scheduled Receipts       10000       0       0       0       0       0   \n",
      "Projected On Hand        20000   20000   69723   20000  119446       0   \n",
      "Net Requirements         29723   29723       0   79446       0   29723   \n",
      "Planned Order Releases   99446       0   49723       0   99446       0   \n",
      "\n",
      "                        Week 7  Week 8  Week 9  Week 10  Week 11  Week 12  \n",
      "Gross Requirements           0   99446       0    49723        0        0  \n",
      "Scheduled Receipts           0   10000       0        0        0        0  \n",
      "Projected On Hand        49723       0       0        0        0        0  \n",
      "Net Requirements             0   89446       0    49723        0        0  \n",
      "Planned Order Releases   49723       0       0        0        0        0   \n",
      "\n"
     ]
    }
   ],
   "source": [
    "for i in ['Japan', 'Germany', 'USA']:\n",
    "    print(f'MRP table for {i}')\n",
    "    print('----------------------------------------------------------------------------------')\n",
    "    df = MRP(\n",
    "        i,\n",
    "        assumptions.loc[i]['LS'],\n",
    "        assumptions.loc[i]['int_inventory'],\n",
    "        customer_orders[i],\n",
    "        assumptions.loc[i]['LT'],\n",
    "        scheduled_receipts,\n",
    "    )\n",
    "    print(df, '\\n')"
   ]
  }
 ],
 "metadata": {
  "kernelspec": {
   "display_name": "Python 3 (ipykernel)",
   "language": "python",
   "name": "python3"
  },
  "language_info": {
   "codemirror_mode": {
    "name": "ipython",
    "version": 3
   },
   "file_extension": ".py",
   "mimetype": "text/x-python",
   "name": "python",
   "nbconvert_exporter": "python",
   "pygments_lexer": "ipython3",
   "version": "3.11.5"
  }
 },
 "nbformat": 4,
 "nbformat_minor": 5
}
